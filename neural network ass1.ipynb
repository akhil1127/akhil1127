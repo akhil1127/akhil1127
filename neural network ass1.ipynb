{
 "cells": [
  {
   "cell_type": "code",
   "execution_count": 2,
   "id": "60acf4aa",
   "metadata": {},
   "outputs": [
    {
     "name": "stdout",
     "output_type": "stream",
     "text": [
      "Enter a string: python\n",
      "Given string: python\n",
      "Reversed Resultant String: noht\n"
     ]
    }
   ],
   "source": [
    "input_string = input(\"Enter a string: \")\n",
    "print(\"Given string:\", input_string)\n",
    "input_list = list(input_string)\n",
    "if len(input_list) >= 2:\n",
    "    del input_list[:2]\n",
    "resultant_string = ''.join(reversed(input_list))\n",
    "print(\"Reversed Resultant String:\", resultant_string)"
   ]
  },
  {
   "cell_type": "code",
   "execution_count": 3,
   "id": "d4ac89bf",
   "metadata": {},
   "outputs": [
    {
     "name": "stdout",
     "output_type": "stream",
     "text": [
      "enter string :i love python\n",
      "i love pythons\n"
     ]
    }
   ],
   "source": [
    "inputValue = input(\"enter string :\")\n",
    "\n",
    "inputValue = inputValue.replace(\"python\",\"pythons\")\n",
    "\n",
    "print(inputValue)"
   ]
  },
  {
   "cell_type": "code",
   "execution_count": 4,
   "id": "63bf2ff3",
   "metadata": {},
   "outputs": [
    {
     "name": "stdout",
     "output_type": "stream",
     "text": [
      "Enter Students score : 83\n",
      "Grade = B\n"
     ]
    }
   ],
   "source": [
    "marks = int(input(\"Enter Students score : \"))\n",
    "\n",
    "if(marks<=100 and marks>=90):\n",
    "    print(\"Grade = A\")\n",
    "elif(marks<=89 and marks>=80):\n",
    "     print(\"Grade = B\")\n",
    "elif(marks<=79 and marks>=70):\n",
    "     print(\"Grade = C\") \n",
    "elif(marks<=69 and marks>=60):\n",
    "     print(\"Grade = D\")\n",
    "elif(marks<=59 and marks>=0):\n",
    "     print(\"Grade = F\")"
   ]
  },
  {
   "cell_type": "code",
   "execution_count": null,
   "id": "c0d23792",
   "metadata": {},
   "outputs": [],
   "source": []
  }
 ],
 "metadata": {
  "kernelspec": {
   "display_name": "Python 3 (ipykernel)",
   "language": "python",
   "name": "python3"
  },
  "language_info": {
   "codemirror_mode": {
    "name": "ipython",
    "version": 3
   },
   "file_extension": ".py",
   "mimetype": "text/x-python",
   "name": "python",
   "nbconvert_exporter": "python",
   "pygments_lexer": "ipython3",
   "version": "3.11.5"
  }
 },
 "nbformat": 4,
 "nbformat_minor": 5
}
